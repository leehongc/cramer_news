{
 "cells": [
  {
   "cell_type": "code",
   "execution_count": 1,
   "metadata": {},
   "outputs": [
    {
     "name": "stderr",
     "output_type": "stream",
     "text": [
      "/anaconda3/lib/python3.7/site-packages/requests/__init__.py:91: RequestsDependencyWarning: urllib3 (1.26.12) or chardet (3.0.4) doesn't match a supported version!\n",
      "  RequestsDependencyWarning)\n",
      "/anaconda3/lib/python3.7/site-packages/pandas/compat/_optional.py:138: UserWarning: Pandas requires version '2.7.0' or newer of 'numexpr' (version '2.6.9' currently installed).\n",
      "  warnings.warn(msg, UserWarning)\n"
     ]
    }
   ],
   "source": [
    "import requests\n",
    "from bs4 import BeautifulSoup\n",
    "import pandas as pd"
   ]
  },
  {
   "cell_type": "code",
   "execution_count": 2,
   "metadata": {},
   "outputs": [
    {
     "name": "stdout",
     "output_type": "stream",
     "text": [
      "200\n"
     ]
    }
   ],
   "source": [
    "url = 'https://news.google.com/search?q=jim%20cramer%20site%3Acnbc.com&hl=en-US&gl=US&ceid=US%3Aen'\n",
    "\n",
    "result = requests.get(url)\n",
    "print(result.status_code)\n",
    "\n",
    "src = result.text\n",
    "soup = BeautifulSoup(src, 'html.parser')"
   ]
  },
  {
   "cell_type": "code",
   "execution_count": 3,
   "metadata": {
    "scrolled": false
   },
   "outputs": [
    {
     "data": {
      "text/plain": [
       "[\"Cramer's lightning round: Costamare is not a buy\",\n",
       " \"Cramer's lightning round: I would hold onto Biomarin Pharmaceutical\",\n",
       " \"Jim Cramer's Investing Club meeting Thursday: December CPI, Disney, Wells Fargo\",\n",
       " \"Jim Cramer explains why the December CPI number is a 'big deal'\",\n",
       " 'Jim Cramer explains why the December CPI number is a ‘big deal’']"
      ]
     },
     "execution_count": 3,
     "metadata": {},
     "output_type": "execute_result"
    }
   ],
   "source": [
    "# article title\n",
    "headlines = []\n",
    "\n",
    "articles_headlines = soup.select('.DY5T1d.RZIKme')\n",
    "for article in articles_headlines:\n",
    "    headlines.append(article.text)\n",
    "    \n",
    "headlines[:5]"
   ]
  },
  {
   "cell_type": "code",
   "execution_count": 6,
   "metadata": {},
   "outputs": [
    {
     "data": {
      "text/plain": [
       "['2023-01-13T23:59:20Z',\n",
       " '2023-01-12T00:28:00Z',\n",
       " '2023-01-12T16:55:14Z',\n",
       " '2023-01-12T00:04:00Z',\n",
       " '2023-01-11T23:20:14Z']"
      ]
     },
     "execution_count": 6,
     "metadata": {},
     "output_type": "execute_result"
    }
   ],
   "source": [
    "# artice date/time\n",
    "\n",
    "datetime = []\n",
    "articles_dt = soup.select('[datetime]')\n",
    "for dt in articles_dt:\n",
    "    datetime.append(dt['datetime'])\n",
    "datetime[:5]\n",
    "\n",
    "datetime[:5]"
   ]
  },
  {
   "cell_type": "code",
   "execution_count": 7,
   "metadata": {
    "scrolled": false
   },
   "outputs": [
    {
     "data": {
      "text/plain": [
       "['https://news.google.com/articles/CBMiU2h0dHBzOi8vd3d3LmNuYmMuY29tLzIwMjMvMDEvMTMvY3JhbWVycy1saWdodG5pbmctcm91bmQtY29zdGFtYXJlLWlzLW5vdC1hLWJ1eS5odG1s0gFXaHR0cHM6Ly93d3cuY25iYy5jb20vYW1wLzIwMjMvMDEvMTMvY3JhbWVycy1saWdodG5pbmctcm91bmQtY29zdGFtYXJlLWlzLW5vdC1hLWJ1eS5odG1s?hl=en-US&gl=US&ceid=US%3Aen',\n",
       " 'https://news.google.com/articles/CBMiZmh0dHBzOi8vd3d3LmNuYmMuY29tLzIwMjMvMDEvMTEvY3JhbWVycy1saWdodG5pbmctcm91bmQtaS13b3VsZC1ob2xkLW9udG8tYmlvbWFyaW4tcGhhcm1hY2V1dGljYWwuaHRtbNIBamh0dHBzOi8vd3d3LmNuYmMuY29tL2FtcC8yMDIzLzAxLzExL2NyYW1lcnMtbGlnaHRuaW5nLXJvdW5kLWktd291bGQtaG9sZC1vbnRvLWJpb21hcmluLXBoYXJtYWNldXRpY2FsLmh0bWw?hl=en-US&gl=US&ceid=US%3Aen',\n",
       " 'https://news.google.com/articles/CBMiZGh0dHBzOi8vd3d3LmNuYmMuY29tLzIwMjMvMDEvMTIvamltLWNyYW1lcnMtaW52ZXN0aW5nLWNsdWItbWVldGluZy10aHVyc2RheS1kZWNlbWJlci1jcGktZGlzbmV5Lmh0bWzSAQA?hl=en-US&gl=US&ceid=US%3Aen',\n",
       " 'https://news.google.com/articles/CBMiaGh0dHBzOi8vd3d3LmNuYmMuY29tL3ZpZGVvLzIwMjMvMDEvMTEvamltLWNyYW1lci1leHBsYWlucy13aHktdGhlLWRlY2VtYmVyLWNwaS1udW1iZXItaXMtYS1iaWctZGVhbC5odG1s0gEA?hl=en-US&gl=US&ceid=US%3Aen',\n",
       " 'https://news.google.com/articles/CBMiYmh0dHBzOi8vd3d3LmNuYmMuY29tLzIwMjMvMDEvMTEvamltLWNyYW1lci1leHBsYWlucy13aHktdGhlLWRlY2VtYmVyLWNwaS1udW1iZXItaXMtYS1iaWctZGVhbC5odG1s0gFmaHR0cHM6Ly93d3cuY25iYy5jb20vYW1wLzIwMjMvMDEvMTEvamltLWNyYW1lci1leHBsYWlucy13aHktdGhlLWRlY2VtYmVyLWNwaS1udW1iZXItaXMtYS1iaWctZGVhbC5odG1s?hl=en-US&gl=US&ceid=US%3Aen']"
      ]
     },
     "execution_count": 7,
     "metadata": {},
     "output_type": "execute_result"
    }
   ],
   "source": [
    "domain_name = 'https://news.google.com'\n",
    "links = []\n",
    "for a in soup.find_all('a', href=True):\n",
    "    if a['href'].startswith('./articles') and domain_name + a['href'][1:] not in links:\n",
    "        links.append(domain_name + a['href'][1:])\n",
    "        \n",
    "links[:5]"
   ]
  },
  {
   "cell_type": "code",
   "execution_count": null,
   "metadata": {},
   "outputs": [],
   "source": []
  }
 ],
 "metadata": {
  "kernelspec": {
   "display_name": "Python 3",
   "language": "python",
   "name": "python3"
  },
  "language_info": {
   "codemirror_mode": {
    "name": "ipython",
    "version": 3
   },
   "file_extension": ".py",
   "mimetype": "text/x-python",
   "name": "python",
   "nbconvert_exporter": "python",
   "pygments_lexer": "ipython3",
   "version": "3.7.3"
  }
 },
 "nbformat": 4,
 "nbformat_minor": 2
}
