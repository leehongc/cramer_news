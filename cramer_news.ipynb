{
 "cells": [
  {
   "cell_type": "code",
   "execution_count": 1,
   "metadata": {},
   "outputs": [
    {
     "name": "stderr",
     "output_type": "stream",
     "text": [
      "/anaconda3/lib/python3.7/site-packages/pandas/compat/_optional.py:138: UserWarning: Pandas requires version '2.7.0' or newer of 'numexpr' (version '2.6.9' currently installed).\n",
      "  warnings.warn(msg, UserWarning)\n"
     ]
    }
   ],
   "source": [
    "import requests\n",
    "from bs4 import BeautifulSoup\n",
    "import pandas as pd"
   ]
  },
  {
   "cell_type": "code",
   "execution_count": 2,
   "metadata": {},
   "outputs": [
    {
     "name": "stdout",
     "output_type": "stream",
     "text": [
      "200\n"
     ]
    }
   ],
   "source": [
    "url = 'https://news.google.com/search?q=jim%20cramer%20site%3Acnbc.com&hl=en-US&gl=US&ceid=US%3Aen'\n",
    "result = requests.get(url)\n",
    "print(result.status_code)\n",
    "\n",
    "src = result.text\n",
    "soup = BeautifulSoup(src, 'html.parser')"
   ]
  },
  {
   "cell_type": "code",
   "execution_count": 3,
   "metadata": {
    "scrolled": false
   },
   "outputs": [
    {
     "data": {
      "text/plain": [
       "['Jim Cramer says economic data can’t capture one huge driver of inflation',\n",
       " 'Jim Cramer says Apple is still the ‘greatest stock of all time’',\n",
       " 'The market is angry at the bears, says Jim Cramer',\n",
       " \"Jim Cramer's 'dirty dozen' stocks that underscore the carnage in the IPO market\",\n",
       " \"Cramer's lightning round: Cisco is going to snap back big\"]"
      ]
     },
     "execution_count": 3,
     "metadata": {},
     "output_type": "execute_result"
    }
   ],
   "source": [
    "# article title\n",
    "headlines = []\n",
    "\n",
    "articles_headlines = soup.select('.DY5T1d.RZIKme')\n",
    "for article in articles_headlines:\n",
    "    headlines.append(article.text)\n",
    "    \n",
    "headlines[:5]"
   ]
  },
  {
   "cell_type": "code",
   "execution_count": 4,
   "metadata": {},
   "outputs": [
    {
     "data": {
      "text/plain": [
       "['2022-10-06T22:14:24Z',\n",
       " '2022-10-03T23:44:40Z',\n",
       " '2022-10-04T12:57:00Z',\n",
       " '2022-09-27T22:46:00Z',\n",
       " '2022-10-04T23:12:49Z']"
      ]
     },
     "execution_count": 4,
     "metadata": {},
     "output_type": "execute_result"
    }
   ],
   "source": [
    "# artice date/time\n",
    "\n",
    "datetime = []\n",
    "articles_dt = soup.select('[datetime]')\n",
    "for dt in articles_dt:\n",
    "    datetime.append(dt['datetime'])\n",
    "datetime[:5]"
   ]
  }
 ],
 "metadata": {
  "kernelspec": {
   "display_name": "Python 3",
   "language": "python",
   "name": "python3"
  },
  "language_info": {
   "codemirror_mode": {
    "name": "ipython",
    "version": 3
   },
   "file_extension": ".py",
   "mimetype": "text/x-python",
   "name": "python",
   "nbconvert_exporter": "python",
   "pygments_lexer": "ipython3",
   "version": "3.7.3"
  }
 },
 "nbformat": 4,
 "nbformat_minor": 2
}
